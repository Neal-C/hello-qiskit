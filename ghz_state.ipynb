{
 "cells": [
  {
   "cell_type": "markdown",
   "metadata": {},
   "source": [
    "# n-quibit GHZ state\n",
    "\n",
    "## 1. Map the problem to circuits and operators"
   ]
  },
  {
   "cell_type": "code",
   "execution_count": null,
   "metadata": {},
   "outputs": [],
   "source": [
    "from qiskit import QuantumCircuit\n",
    "\n",
    "def get_qc_for_n_qubit_GHZ_state(n):\n",
    "    qc = QuantumCircuit(n)\n",
    "    qc.h(0)\n",
    "    for i in range(n-1):\n",
    "        qc.cx(i, i+1)\n",
    "    return qc\n",
    "\n",
    "n = 100\n",
    "qc = get_qc_for_n_qubit_GHZ_state(n)\n",
    "qc.draw(output='mpl')"
   ]
  },
  {
   "cell_type": "code",
   "execution_count": null,
   "metadata": {},
   "outputs": [],
   "source": [
    "from qiskit.quantum_info import SparsePauliOp\n",
    "\n",
    "operator_strings = ['Z' + 'I' * i + 'Z' + 'I' * (n-2-i) for i in range(n-1)]\n",
    "print(operator_strings)\n",
    "print(len(operator_strings))\n",
    "\n",
    "operators = [SparsePauliOp(operator_string) for operator_string in operator_strings]"
   ]
  },
  {
   "cell_type": "markdown",
   "metadata": {},
   "source": [
    "## 2. Optimize for quantum execution"
   ]
  },
  {
   "cell_type": "code",
   "execution_count": null,
   "metadata": {},
   "outputs": [],
   "source": [
    "from qiskit_ibm_runtime import QiskitRuntimeService\n",
    "from qiskit.transpiler.preset_passmanagers import generate_preset_pass_manager\n",
    "\n",
    "\n",
    "backend = QiskitRuntimeService().least_busy(simulator=False, operational=True, min_num_qubits=100)\n",
    "pass_manager = generate_preset_pass_manager(optimization_level=1, backend=backend)\n",
    "\n",
    "qc_transpiled = pass_manager.run(qc)\n",
    "operators_transpiled_list = [op.apply_layout(qc_transpiled.layout) for op in operators]"
   ]
  },
  {
   "cell_type": "markdown",
   "metadata": {},
   "source": [
    "## 3. Execute it on a backend"
   ]
  },
  {
   "cell_type": "code",
   "execution_count": null,
   "metadata": {},
   "outputs": [],
   "source": [
    "from qiskit_ibm_runtime import EstimatorV2 as Estimator\n",
    "from qiskit_ibm_runtime import EstimatorOptions\n",
    "\n",
    "options = EstimatorOptions()\n",
    "options.resilience_level = 1\n",
    "options.optimization_level = 0\n",
    "options.dynamical_decoupling.enable = True\n",
    "options.dynamical_decoupling.sequence_type = \"XY4\"\n",
    "\n",
    "estimator = Estimator(backend, options=options)\n",
    "\n",
    "job = estimator.run([(qc_transpiled, operators_transpiled_list)])\n",
    "job_id = job.job_id()\n",
    "print(job_id)"
   ]
  },
  {
   "cell_type": "markdown",
   "metadata": {},
   "source": [
    "## 4. Post-process and plotting"
   ]
  },
  {
   "cell_type": "code",
   "execution_count": null,
   "metadata": {},
   "outputs": [],
   "source": [
    "options = EstimatorOptions()\n",
    "options.resilience_level = 1\n",
    "options.optimization_level = 0\n",
    "options.dynamical_decoupling.enable = True\n",
    "options.dynamical_decoupling.sequence_type = \"XY4\"\n",
    "\n",
    "estimator = Estimator(backend, options=options)\n",
    "\n",
    "job = estimator.run([(qc_transpiled, operators_transpiled_list)])\n",
    "job_id = job.job_id()\n",
    "print(job_id)\n",
    "service = QiskitRuntimeService()\n",
    "job = service.job(job_id)"
   ]
  },
  {
   "cell_type": "code",
   "execution_count": null,
   "metadata": {},
   "outputs": [],
   "source": [
    "import matplotlib.pyplot as plt\n",
    "\n",
    "data = list(range(1, len(operators)+1))\n",
    "result = job.result()[0]\n",
    "values = result.data.evs\n",
    "values = [v / values[0] for v in values]\n",
    "\n",
    "plt.scatter(data, values, marker='o', label='100-qubit GHZ state')\n",
    "plt.xlabel('Distance between qubits $i$')\n",
    "plt.ylabel(r'$\\langle Z_0 Z_i \\rangle / \\langle Z_0 Z_1 \\rangle$')\n",
    "plt.legend()\n",
    "plt.show()"
   ]
  }
 ],
 "metadata": {
  "language_info": {
   "name": "python"
  }
 },
 "nbformat": 4,
 "nbformat_minor": 2
}
